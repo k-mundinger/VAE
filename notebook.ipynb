{
 "cells": [
  {
   "cell_type": "code",
   "execution_count": null,
   "metadata": {},
   "outputs": [],
   "source": [
    "import torch\n",
    "import matplotlib.pyplot as plt\n",
    "import numpy as np\n",
    "from sklearn.decomposition import PCA\n",
    "from lightning_module import MNISTAutoencoder"
   ]
  },
  {
   "cell_type": "code",
   "execution_count": null,
   "metadata": {},
   "outputs": [],
   "source": [
    "CKPT_PATH = \"/home/konrad/fun/VAE/logs/fc_lat_dim_20/version_1/checkpoints/epoch=29-step=8219.ckpt\""
   ]
  },
  {
   "cell_type": "code",
   "execution_count": null,
   "metadata": {},
   "outputs": [],
   "source": [
    "model = MNISTAutoencoder.load_from_checkpoint(CKPT_PATH)"
   ]
  },
  {
   "cell_type": "code",
   "execution_count": null,
   "metadata": {},
   "outputs": [],
   "source": [
    "encoder = model.model.encoder\n",
    "decoder = model.model.decoder"
   ]
  },
  {
   "cell_type": "code",
   "execution_count": null,
   "metadata": {},
   "outputs": [],
   "source": [
    "# find the latent space\n",
    "\n",
    "loader = model.train_dataloader()"
   ]
  },
  {
   "cell_type": "code",
   "execution_count": null,
   "metadata": {},
   "outputs": [],
   "source": [
    "batch_imgs, batch_lbls = next(iter(loader))"
   ]
  },
  {
   "cell_type": "code",
   "execution_count": null,
   "metadata": {},
   "outputs": [],
   "source": [
    "encoded = encoder(batch_imgs)"
   ]
  },
  {
   "cell_type": "code",
   "execution_count": null,
   "metadata": {},
   "outputs": [],
   "source": [
    "decoded = decoder(encoded)"
   ]
  },
  {
   "cell_type": "code",
   "execution_count": null,
   "metadata": {},
   "outputs": [],
   "source": [
    "fig, axs = plt.subplots(2, 10, figsize = (20, 5))\n",
    "\n",
    "gen_imgs = decoded.detach().cpu().numpy().transpose(0, 2, 3, 1)\n",
    "real_imgs = batch_imgs.detach().cpu().numpy().transpose(0, 2, 3, 1)\n",
    "\n",
    "for i, ax in enumerate(axs.flat):\n",
    "\n",
    "    if i < 10:\n",
    "\n",
    "        renormalized = gen_imgs[i]*0.5 + 0.5*np.ones_like(gen_imgs[i])\n",
    "        ax.imshow(renormalized, cmap = plt.cm.magma)\n",
    "        ax.axis(\"off\")\n",
    "        ax.set_title(\"Reconstructed\")\n",
    "\n",
    "    elif 10 <= i < 20:\n",
    "\n",
    "        renormalized = real_imgs[i - 10]*0.5 + 0.5*np.ones_like(gen_imgs[i])\n",
    "        ax.imshow(renormalized, cmap = plt.cm.magma)\n",
    "        ax.axis(\"off\")\n",
    "        ax.set_title(\"Real\")\n",
    "\n",
    "plt.show()"
   ]
  },
  {
   "cell_type": "code",
   "execution_count": null,
   "metadata": {},
   "outputs": [],
   "source": [
    "zero = encoded[1]\n",
    "one = encoded[3]\n",
    "two = encoded[5]\n",
    "three = encoded[7]\n",
    "four = encoded[2]\n",
    "four_2 = encoded[9]\n",
    "five = encoded[0] \n",
    "six = encoded[13]\n",
    "seven = encoded[29]\n",
    "eight = encoded[17]\n",
    "nine = encoded[4]\n"
   ]
  },
  {
   "cell_type": "code",
   "execution_count": null,
   "metadata": {},
   "outputs": [],
   "source": [
    "def decode_and_show(x):\n",
    "    plt.imshow(decoder(x.unsqueeze(0)).data.numpy().transpose(0, 2, 3, 1).squeeze())\n",
    "    plt.show()"
   ]
  },
  {
   "cell_type": "code",
   "execution_count": null,
   "metadata": {},
   "outputs": [],
   "source": [
    "def show_transition(x, y):\n",
    "\n",
    "    fig, axs = plt.subplots(5, 10, figsize = (20, 10))\n",
    "\n",
    "    line = np.linspace(0, 1, 50)\n",
    "\n",
    "    for i, ax in enumerate(axs.flat):\n",
    "\n",
    "        interm = x + line[i]*(y - x)\n",
    "\n",
    "        out = decoder(interm.unsqueeze(0))\n",
    "        img = out.data.numpy().transpose(0, 2, 3, 1).squeeze()\n",
    "\n",
    "        ax.imshow(img, cmap = plt.cm.magma)\n",
    "        ax.axis(\"off\")\n",
    "\n",
    "    plt.show()\n"
   ]
  },
  {
   "cell_type": "code",
   "execution_count": null,
   "metadata": {},
   "outputs": [],
   "source": [
    "show_transition(six, eight)"
   ]
  },
  {
   "cell_type": "code",
   "execution_count": null,
   "metadata": {},
   "outputs": [],
   "source": [
    "encodings = np.zeros((1, 20))\n",
    "labels = np.zeros(1)\n",
    "\n",
    "\n",
    "for batch_imgs, batch_lbls in loader:\n",
    "\n",
    "    encoded = encoder(batch_imgs).data.numpy()\n",
    "    encodings = np.concatenate((encodings, encoded))\n",
    "    labels = np.concatenate((labels, batch_lbls.numpy()))\n",
    "\n",
    "encodings = encodings[1:, :]\n",
    "labels = labels[1:]"
   ]
  },
  {
   "cell_type": "code",
   "execution_count": null,
   "metadata": {},
   "outputs": [],
   "source": [
    "latent_space = encodings"
   ]
  },
  {
   "cell_type": "code",
   "execution_count": null,
   "metadata": {},
   "outputs": [],
   "source": [
    "pca = PCA(n_components=2)"
   ]
  },
  {
   "cell_type": "code",
   "execution_count": null,
   "metadata": {},
   "outputs": [],
   "source": [
    "lower_lat_space = pca.fit_transform(latent_space)"
   ]
  },
  {
   "cell_type": "code",
   "execution_count": null,
   "metadata": {},
   "outputs": [],
   "source": [
    "plt.figure(figsize = (20, 15))\n",
    "scatter = plt.scatter(lower_lat_space[:, 0], lower_lat_space[:, 1], c = labels, s = 8, cmap = plt.cm.jet)\n",
    "plt.legend(*scatter.legend_elements())\n",
    "plt.show()"
   ]
  },
  {
   "cell_type": "code",
   "execution_count": null,
   "metadata": {},
   "outputs": [],
   "source": [
    "fig, axs = plt.subplots(4, 5, figsize = (20, 16))\n",
    "\n",
    "spacing = np.linspace(0, 1, 20)\n",
    "\n",
    "for i, ax in enumerate(axs.flat):\n",
    "    ax.hist(encodings[:, i], alpha = .7, bins = 80, color = plt.cm.magma(spacing[i]))\n",
    "\n",
    "plt.show()"
   ]
  },
  {
   "cell_type": "code",
   "execution_count": null,
   "metadata": {},
   "outputs": [],
   "source": [
    "plt.figure(figsize = (15, 10))\n",
    "\n",
    "spacing = np.linspace(0, 1, 20)\n",
    "\n",
    "for i in range(20):\n",
    "\n",
    "    plt.hist(encodings[:, i], alpha = .6, color = plt.cm.viridis(spacing[i]), bins = 80, label = i)\n",
    "\n",
    "plt.legend()\n",
    "plt.show()"
   ]
  },
  {
   "cell_type": "code",
   "execution_count": null,
   "metadata": {},
   "outputs": [],
   "source": [
    "fig, axs = plt.subplots(4, 4, figsize = (10, 10))\n",
    "\n",
    "gen_imgs = decoded.detach().cpu().numpy().transpose(0, 2, 3, 1)\n",
    "\n",
    "for i, ax in enumerate(axs.flat):\n",
    "\n",
    "    renormalized = gen_imgs[i]*0.5 + 0.5*np.ones_like(gen_imgs[i])\n",
    "    ax.imshow(renormalized, cmap = plt.cm.magma)\n",
    "    ax.axis(\"off\")\n",
    "    ax.set_title(str(x[i]), size = \"xx-small\")\n",
    "\n",
    "plt.show()"
   ]
  }
 ],
 "metadata": {
  "interpreter": {
   "hash": "cfd9acb188bbcdf9b57223999dbb5b6b5af3794c978eb6b0461f73eb52717557"
  },
  "kernelspec": {
   "display_name": "Python 3.9.6 ('laserski-env')",
   "language": "python",
   "name": "python3"
  },
  "language_info": {
   "codemirror_mode": {
    "name": "ipython",
    "version": 3
   },
   "file_extension": ".py",
   "mimetype": "text/x-python",
   "name": "python",
   "nbconvert_exporter": "python",
   "pygments_lexer": "ipython3",
   "version": "3.9.6"
  },
  "orig_nbformat": 4
 },
 "nbformat": 4,
 "nbformat_minor": 2
}
